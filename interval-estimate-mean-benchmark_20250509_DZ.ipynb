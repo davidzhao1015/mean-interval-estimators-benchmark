{
 "cells": [
  {
   "cell_type": "markdown",
   "id": "2070003a",
   "metadata": {},
   "source": [
    "# Benchmark statistical methods to estimate confidence intervals for the mean on simulated data\n",
    "**Use case study: Hospital length of stay for the rare disease autoimmune encephalitis**"
   ]
  },
  {
   "cell_type": "markdown",
   "id": "87843f33",
   "metadata": {},
   "source": [
    "Steps:\n",
    "1. Simulate data mimicking the skewed, overdispersed distribution of hospital length of stay for patients with autoimmune encephalitis. \n",
    "2. Code snippets to implement three or four different statistical methods to estimate confidence intervals for the mean\n",
    "   - Method 1: t-distribution method\n",
    "   - Method 2: z-distribution method\n",
    "   - Method 3: Bootstrap method\n",
    "   - Method 4: Bayesian method\n",
    "3. Compare the performance of the methods using simulation. Performance metrics could include:\n",
    "   - Coverage probability\n",
    "   - Length of confidence intervals\n",
    "   - Sensitivity to skewness and small sample sizes\n",
    "4. Discuss the results and implications for clinical practice\n",
    "5. Provide a summary of the findings and recommendations for future research"
   ]
  },
  {
   "cell_type": "code",
   "execution_count": 24,
   "id": "5efc058c",
   "metadata": {},
   "outputs": [],
   "source": [
    "import pandas as pd\n",
    "import numpy as np\n",
    "from scipy import stats\n",
    "import matplotlib.pyplot as plt\n",
    "import seaborn as sns"
   ]
  },
  {
   "cell_type": "markdown",
   "id": "34eaee45",
   "metadata": {},
   "source": [
    "## Simulating data for true population parameters\n",
    "\n",
    "To make the simulation more realistic, we will use a log-normal distribution to simulate the hospital length of stay. The log-normal distribution is often used to model skewed data, such as hospital length of stay.\n",
    "\n",
    "The parameters for the log-normal distribution will be set to mimic the characteristics of hospital length of stay for patients with autoimmune encephalitis. Set true population parameters as follows:\n",
    "- True mean length of stay: 55 days \n",
    "- True standard deviation: 20 days\n",
    "- Sample size: 100,000 patients with anti-NMDA encephalitis\n"
   ]
  },
  {
   "cell_type": "code",
   "execution_count": 32,
   "id": "c0c53a4a",
   "metadata": {},
   "outputs": [],
   "source": [
    "population_n = 10000\n",
    "mean_true = 55 \n",
    "sd_true = 20\n",
    "\n",
    "# Mean and standard deviation in log space\n",
    "mu = np.log(55)\n",
    "sigma_squared = np.log(1 + (sd_true**2) / (mean_true**2))\n",
    "sigma = np.sqrt(sigma_squared)"
   ]
  },
  {
   "cell_type": "code",
   "execution_count": 33,
   "id": "7c133008",
   "metadata": {},
   "outputs": [],
   "source": [
    "\n",
    "true_population = np.random.lognormal(mean=mu, sigma=sigma, size=population_n) "
   ]
  },
  {
   "cell_type": "markdown",
   "id": "d2a229b0",
   "metadata": {},
   "source": [
    "Overview the simulated data in histogram"
   ]
  },
  {
   "cell_type": "code",
   "execution_count": 34,
   "id": "3a3db0ac",
   "metadata": {},
   "outputs": [
    {
     "data": {
      "image/png": "[encoded data removed]",
      "text/plain": [
       "<Figure size 640x480 with 1 Axes>"
      ]
     },
     "metadata": {},
     "output_type": "display_data"
    }
   ],
   "source": [
    "# Overview the simulated population in a histogram\n",
    "plt.hist(true_population, bins=100, density=True)\n",
    "plt.title(\"Log-normal Distribution of Hospital LoS\")\n",
    "plt.xlabel(\"Length of Stay (days)\")\n",
    "plt.ylabel(\"Density\")\n",
    "# plt.xlim(0, 100)\n",
    "plt.show()"
   ]
  },
  {
   "cell_type": "markdown",
   "id": "c06f53dc",
   "metadata": {},
   "source": [
    "### Sampling from a log-normal distribution\n",
    "\n",
    "Sample randomly from a log-normal distribution with the size of 50 patients. "
   ]
  },
  {
   "cell_type": "code",
   "execution_count": 35,
   "id": "2784f918",
   "metadata": {},
   "outputs": [],
   "source": [
    "np.random.seed(42)\n",
    "sample_50 = np.random.choice(true_population, size=50, replace=False)"
   ]
  },
  {
   "cell_type": "code",
   "execution_count": 21,
   "id": "e96ec24f",
   "metadata": {},
   "outputs": [
    {
     "name": "stdout",
     "output_type": "stream",
     "text": [
      "Sample mean: 59.27, SD: 23.48\n"
     ]
    }
   ],
   "source": [
    "print(f\"Sample mean: {np.mean(sample_50):.2f}, SD: {np.std(sample_50):.2f}\")"
   ]
  },
  {
   "cell_type": "markdown",
   "id": "80bfee1a",
   "metadata": {},
   "source": [
    "## Code snippets to implement different statistical methods"
   ]
  },
  {
   "cell_type": "markdown",
   "id": "131e0ead",
   "metadata": {},
   "source": [
    "### Method 1: t-distribution method"
   ]
  },
  {
   "cell_type": "markdown",
   "id": "228d70de",
   "metadata": {},
   "source": [
    "**Formula for t-distribution method:**\n",
    "$$\n",
    "CI = \\bar{x} \\pm t_{\\alpha/2, n-1} \\cdot \\frac{s}{\\sqrt{n}}\n",
    "$$\n",
    "Where:\n",
    "- $\\bar{x}$ is the sample mean\n",
    "- $t_{\\alpha/2, n-1}$ is the t-value for a two-tailed test with $\\alpha$ level of significance and $n-1$ degrees of freedom\n",
    "- $s$ is the sample standard deviation\n",
    "- $n$ is the sample size"
   ]
  },
  {
   "cell_type": "code",
   "execution_count": 31,
   "id": "2a04229f",
   "metadata": {},
   "outputs": [
    {
     "name": "stdout",
     "output_type": "stream",
     "text": [
      "Sample mean = 59.27\n",
      "95% t-distribution CI: (52.52, 66.01)\n"
     ]
    }
   ],
   "source": [
    "# t-distribution CI calculation\n",
    "\n",
    "sample_n = len(sample_50)\n",
    "sample_mean = np.mean(sample_50)\n",
    "sample_sd = np.std(sample_50, ddof=1)\n",
    "se = sample_sd / np.sqrt(sample_n)\n",
    "t_crit = stats.t.ppf(0.975, df=sample_n-1) # percent point function \n",
    "\n",
    "ci_lower = sample_mean - t_crit * se\n",
    "ci_upper = sample_mean + t_crit * se\n",
    "\n",
    "# Print result\n",
    "print(f\"Sample mean = {sample_mean:.2f}\")\n",
    "print(f\"95% t-distribution CI: ({ci_lower:.2f}, {ci_upper:.2f})\")\n"
   ]
  },
  {
   "cell_type": "markdown",
   "id": "98f6ded6",
   "metadata": {},
   "source": [
    "## Method 2: z-distribution method\n",
    "**Formula for z-distribution method:**\n",
    "$$\n",
    "CI = \\bar{x} \\pm z_{\\alpha/2} \\cdot \\frac{\\sigma}{\\sqrt{n}}\n",
    "$$\n",
    "Where:\n",
    "- $\\bar{x}$ is the sample mean\n",
    "- $z_{\\alpha/2}$ is the z-value for a two-tailed test with $\\alpha$ level of significance\n",
    "- $\\sigma$ is the population standard deviation\n",
    "- $n$ is the sample size"
   ]
  },
  {
   "cell_type": "code",
   "execution_count": 36,
   "id": "ccb10221",
   "metadata": {},
   "outputs": [],
   "source": [
    "from scipy.stats import norm"
   ]
  },
  {
   "cell_type": "code",
   "execution_count": 38,
   "id": "a8fafb1b",
   "metadata": {},
   "outputs": [
    {
     "name": "stdout",
     "output_type": "stream",
     "text": [
      "Sample mean = 59.27\n",
      "95% z-distribution CI: (52.69, 65.84)\n"
     ]
    }
   ],
   "source": [
    "# Z-distribution CI calculation\n",
    "population_sd = np.std(true_population, ddof=0)\n",
    "z_se = sample_sd / np.sqrt(sample_n)\n",
    "z_crit = stats.norm.ppf(0.975) # percent point function\\\n",
    "\n",
    "z_ci_lower = sample_mean - z_crit * z_se\n",
    "z_ci_upper = sample_mean + z_crit * z_se\n",
    "\n",
    "# Print result\n",
    "print(f\"Sample mean = {sample_mean:.2f}\")\n",
    "print(f\"95% z-distribution CI: ({z_ci_lower:.2f}, {z_ci_upper:.2f})\")"
   ]
  },
  {
   "cell_type": "markdown",
   "id": "f1d3551b",
   "metadata": {},
   "source": [
    "## Method 3: Bootstrap method\n",
    "\n",
    "Bootstrap resampling involves:\n",
    "1. Draw many samples (with replacement) from the observed data.\n",
    "2. Compute the sample mean for each resample. \n",
    "3. Take percentiles (e.g., 2.5th and 97.5th) of those means to form the bootstrap CI."
   ]
  },
  {
   "cell_type": "code",
   "execution_count": null,
   "id": "5022f6e8",
   "metadata": {},
   "outputs": [],
   "source": [
    "# Bootstrap \n",
    "bootstrap_n = 1000\n",
    "bootstrap_means = []\n",
    "\n",
    "for _ in range(bootstrap_n):\n",
    "    bootstrap_sample = np.random.choice(sample_50, size=50, replace=True)\n",
    "    bootstrap_means.append(np.mean(bootstrap_sample))\n",
    "\n",
    "ci_lower  = np.percentile(bootstrap_means, 2.5)\n",
    "ci_upper = np.percentile(bootstrap_means, 97.5)\n",
    "\n",
    "print(f\"Bootstrap 95% CI for mean: ({ci_lower:.2f}, {ci_upper:.2f})\") "
   ]
  }
 ],
 "metadata": {
  "kernelspec": {
   "display_name": "base",
   "language": "python",
   "name": "python3"
  },
  "language_info": {
   "codemirror_mode": {
    "name": "ipython",
    "version": 3
   },
   "file_extension": ".py",
   "mimetype": "text/x-python",
   "name": "python",
   "nbconvert_exporter": "python",
   "pygments_lexer": "ipython3",
   "version": "3.12.2"
  }
 },
 "nbformat": 4,
 "nbformat_minor": 5
}
