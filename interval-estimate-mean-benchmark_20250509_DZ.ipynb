{
 "cells": [
  {
   "cell_type": "markdown",
   "id": "2070003a",
   "metadata": {},
   "source": [
    "# Benckmarking Confidence Interval Methods for Skewed Data through Simulation\n",
    "\n",
    "**Authors:** Xin (David) Zhao  \n",
    "**Date:** May 2025  \n",
    "**Project:** Interval Estimation Benckmark - Autoimmune Encephalitis Use Case\n",
    "\n",
    "---\n",
    "\n",
    "## 📝 Purpose & Overview\n",
    "\n",
    "This notebook benchmarks three statistical methods for estimating confidence intervals (CIs) of the mean on simulated right-skewed, overdispersed data.\n",
    "\n",
    "- **Context**: Hospital length of stay for autoimmune encephalitis is often skewed and highly variable.\n",
    "- **Goal**: Evaluate coverage probability and interval width of:\n",
    "  - t-distribution method\n",
    "  - z-distribution method\n",
    "  - Bootstrap percentile method\n",
    "- **Approach**: Simulate data, apply methods, and compare performance across varying sample sizes and skewness.\n",
    "\n",
    "---"
   ]
  },
  {
   "cell_type": "markdown",
   "id": "678f53a4",
   "metadata": {},
   "source": [
    "The notebook focuses on comparing frequentist methods and does not include Bayesian credible intervals, as they follow a different philosophy and require a distinct interpretation."
   ]
  },
  {
   "cell_type": "markdown",
   "id": "5e22f4f3",
   "metadata": {},
   "source": [
    "## 🛠️ Environment & Dependencies\n",
    "\n",
    "We start by importing necessary Python libraries for simulation, statistical calculations, and visualization.  \n",
    "Setting a random seed ensures reproducibility of results."
   ]
  },
  {
   "cell_type": "code",
   "execution_count": null,
   "id": "5efc058c",
   "metadata": {},
   "outputs": [
    {
     "name": "stdout",
     "output_type": "stream",
     "text": [
      "Python version: 3.12.2 | packaged by conda-forge | (main, Feb 16 2024, 20:54:21) [Clang 16.0.6 ]\n",
      "Pandas version: 2.2.3\n",
      "Numpy version: 1.26.4\n",
      "Scipy version: 1.13.1\n",
      "Matplotlib version: 3.9.2\n",
      "Seaborn version: 0.13.2\n",
      "TQDM version: 4.66.4\n"
     ]
    }
   ],
   "source": [
    "# Import necessary libraries\n",
    "import pandas as pd\n",
    "import numpy as np\n",
    "import scipy\n",
    "import scipy.stats as stats\n",
    "from scipy.stats import norm\n",
    "import matplotlib\n",
    "import matplotlib.pyplot as plt\n",
    "import seaborn as sns\n",
    "import tqdm\n",
    "\n",
    "# Set visualization settings\n",
    "sns.set_theme(style=\"whitegrid\", palette=\"muted\")\n",
    "plt.rcParams['figure.figsize'] = (10, 6)\n",
    "\n",
    "# Fix random seed for reproducibility\n",
    "np.random.seed(42)\n",
    "\n",
    "# Display package versions for reproducibility reference\n",
    "import sys\n",
    "print(f\"Python version: {sys.version}\")\n",
    "print(f\"Pandas version: {pd.__version__}\")\n",
    "print(f\"Numpy version: {np.__version__}\")\n",
    "print(f\"Scipy version: {scipy.__version__}\")\n",
    "print(f\"Matplotlib version: {matplotlib.__version__}\")\n",
    "print(f\"Seaborn version: {sns.__version__}\")\n",
    "print(f\"TQDM version: {tqdm.__version__}\")\n"
   ]
  },
  {
   "cell_type": "markdown",
   "id": "fa0757db",
   "metadata": {},
   "source": [
    "To reproduce this environment:\n",
    "1. Clone the repository\n",
    "2. Install dependencies via:"
   ]
  },
  {
   "cell_type": "markdown",
   "id": "94c395bd",
   "metadata": {},
   "source": [
    "pip install -r requirements.txt"
   ]
  },
  {
   "cell_type": "markdown",
   "id": "468e82fd",
   "metadata": {},
   "source": [
    "3. Run the notebook with Python >= 3.12\n",
    "   \n",
    "The file `requirements.txt` has been generated with exact package versions."
   ]
  },
  {
   "cell_type": "markdown",
   "id": "8081cbd1",
   "metadata": {},
   "source": [
    "## ⚙️ Simulation Configuration"
   ]
  },
  {
   "cell_type": "code",
   "execution_count": 66,
   "id": "900ae233",
   "metadata": {},
   "outputs": [
    {
     "name": "stdout",
     "output_type": "stream",
     "text": [
      "Simulation configuration set.\n"
     ]
    }
   ],
   "source": [
    "# Simulation parameters\n",
    "TRUE_POPULATION = 10000  # Total population size\n",
    "TRUE_MEAN = 20          # True mean of length of stay\n",
    "TRUE_SD_LIST = [5, 10, 20, 40]  # True SDs to simulate different dispersions\n",
    "SAMPLE_SIZES = [10, 30, 100]    # Sample sizes to test\n",
    "SKEW_LEVELS = [0.4, 0.8, 1.2]   # Sigma values in log-space to adjust skewness\n",
    "N_REPS = 1000          # Number of simulation repetitions per scenario\n",
    "BOOTSTRAP_N = 1000     # Bootstrap resampling iterations\n",
    "CI_LEVEL = 0.95        # Confidence Interval level\n",
    "\n",
    "print(\"Simulation configuration set.\")"
   ]
  },
  {
   "cell_type": "markdown",
   "id": "b1e40de3",
   "metadata": {},
   "source": [
    "## ✅ Next Sections in This Notebook\n",
    "\n",
    "1. Simulating Skewed Population Data\n",
    "2. CI Methods Definitions (t, z, bootstrap)\n",
    "3. Simulation Loop: Coverage & Width Benchmark\n",
    "4. Results Visualization: Coverage Probability & Interval Width\n",
    "5. Discussion & Takeaways"
   ]
  },
  {
   "cell_type": "markdown",
   "id": "34eaee45",
   "metadata": {},
   "source": [
    "## Simulating Skewed Population Data\n",
    "\n",
    "To mimic the real-world skewed distribution of hospital length of stay (LOS),  \n",
    "we simulate data from a log-normal distribution using various standard deviations (SDs).\n",
    "\n",
    "- True Mean: 20 days\n",
    "- SDs tested: 5, 10, 20, 40 days\n",
    "\n",
    "We compute sigma in log-space to correctly parameterize the log-normal distribution.\n"
   ]
  },
  {
   "cell_type": "code",
   "execution_count": null,
   "id": "c0c53a4a",
   "metadata": {},
   "outputs": [],
   "source": [
    "# Log-space mean for lognormal distribution\n",
    "mu = np.log(TRUE_MEAN)\n",
    "\n",
    "# Initialize dictionaries to store sigma and simulated populations\n",
    "sigma_dict = {}\n",
    "true_population_dict = {}\n",
    "\n",
    "# Simulate population data for each SD value\n",
    "for sd in TRUE_SD_LIST:\n",
    "    sigma_squared = np.log(1 + (sd**2) / (TRUE_MEAN**2))\n",
    "    sigma = np.sqrt(sigma_squared)\n",
    "    true_population = np.random.lognormal(mean=mu, sigma=sigma, size=TRUE_POPULATION)\n",
    "    sigma_dict[str(sd)] = sigma    \n",
    "    true_population_dict[str(sd)] = true_population"
   ]
  },
  {
   "cell_type": "markdown",
   "id": "d2a229b0",
   "metadata": {},
   "source": [
    "### Visualizing Simulated Populations\n",
    "\n",
    "Histogram plots of the generated populations illustrate how increasing SD leads to stronger right-skewness.\n",
    "The x-axis is limited to 0–400 for better visibility."
   ]
  },
  {
   "cell_type": "code",
   "execution_count": null,
   "id": "3a3db0ac",
   "metadata": {},
   "outputs": [
    {
     "data": {
      "image/png": "[encoded data removed]",
      "text/plain": [
       "<Figure size 1000x600 with 1 Axes>"
      ]
     },
     "metadata": {},
     "output_type": "display_data"
    }
   ],
   "source": [
    "# Plot histograms for each simulated population with varying SDs\n",
    "for sd, true_population in true_population_dict.items():\n",
    "    plt.hist(true_population, bins=100, density=True, alpha=0.5, label=f'sd={sd} (sigma={sigma_dict[sd]:.1f})')\n",
    "\n",
    "plt.xlabel('Value')\n",
    "plt.ylabel('Density')\n",
    "plt.title('Histogram of True Populations')\n",
    "plt.xlim(0, 400)    \n",
    "plt.legend()\n",
    "plt.show()"
   ]
  },
  {
   "cell_type": "markdown",
   "id": "c06f53dc",
   "metadata": {},
   "source": [
    "### Sampling from a log-normal distribution\n",
    "\n",
    "Sample randomly from a log-normal distribution with the size of 50 patients. "
   ]
  },
  {
   "cell_type": "code",
   "execution_count": 73,
   "id": "2784f918",
   "metadata": {},
   "outputs": [],
   "source": [
    "# np.random.seed(42)\n",
    "sample_50 = np.random.choice(true_population_dict[\"5\"], size=50, replace=False)"
   ]
  },
  {
   "cell_type": "code",
   "execution_count": 74,
   "id": "e96ec24f",
   "metadata": {},
   "outputs": [
    {
     "name": "stdout",
     "output_type": "stream",
     "text": [
      "Sample mean: 20.19, SD: 5.82\n"
     ]
    }
   ],
   "source": [
    "print(f\"Sample mean: {np.mean(sample_50):.2f}, SD: {np.std(sample_50):.2f}\")"
   ]
  },
  {
   "cell_type": "markdown",
   "id": "80bfee1a",
   "metadata": {},
   "source": [
    "## CI Methods"
   ]
  },
  {
   "cell_type": "markdown",
   "id": "131e0ead",
   "metadata": {},
   "source": [
    "### Method 1: t-distribution method"
   ]
  },
  {
   "cell_type": "markdown",
   "id": "228d70de",
   "metadata": {},
   "source": [
    "**Formula for t-distribution method:**\n",
    "$$\n",
    "CI = \\bar{x} \\pm t_{\\alpha/2, n-1} \\cdot \\frac{s}{\\sqrt{n}}\n",
    "$$\n",
    "Where:\n",
    "- $\\bar{x}$ is the sample mean\n",
    "- $t_{\\alpha/2, n-1}$ is the t-value for a two-tailed test with $\\alpha$ level of significance and $n-1$ degrees of freedom\n",
    "- $s$ is the sample standard deviation\n",
    "- $n$ is the sample size"
   ]
  },
  {
   "cell_type": "code",
   "execution_count": 75,
   "id": "2a04229f",
   "metadata": {},
   "outputs": [
    {
     "name": "stdout",
     "output_type": "stream",
     "text": [
      "Sample mean = 20.19\n",
      "95% t-distribution CI: (18.51, 21.86)\n"
     ]
    }
   ],
   "source": [
    "# t-distribution CI calculation\n",
    "\n",
    "sample_n = len(sample_50)\n",
    "sample_mean = np.mean(sample_50)\n",
    "sample_sd = np.std(sample_50, ddof=1)\n",
    "se = sample_sd / np.sqrt(sample_n)\n",
    "t_crit = stats.t.ppf(0.975, df=sample_n-1) # percent point function \n",
    "\n",
    "ci_lower = sample_mean - t_crit * se\n",
    "ci_upper = sample_mean + t_crit * se\n",
    "\n",
    "# Print result\n",
    "print(f\"Sample mean = {sample_mean:.2f}\")\n",
    "print(f\"95% t-distribution CI: ({ci_lower:.2f}, {ci_upper:.2f})\")\n"
   ]
  },
  {
   "cell_type": "markdown",
   "id": "98f6ded6",
   "metadata": {},
   "source": [
    "## Method 2: z-distribution method\n",
    "**Formula for z-distribution method:**\n",
    "$$\n",
    "CI = \\bar{x} \\pm z_{\\alpha/2} \\cdot \\frac{\\sigma}{\\sqrt{n}}\n",
    "$$\n",
    "Where:\n",
    "- $\\bar{x}$ is the sample mean\n",
    "- $z_{\\alpha/2}$ is the z-value for a two-tailed test with $\\alpha$ level of significance\n",
    "- $\\sigma$ is the population standard deviation\n",
    "- $n$ is the sample size"
   ]
  },
  {
   "cell_type": "code",
   "execution_count": 77,
   "id": "a8fafb1b",
   "metadata": {},
   "outputs": [
    {
     "name": "stdout",
     "output_type": "stream",
     "text": [
      "Sample mean = 20.19\n",
      "95% z-distribution CI: (18.56, 21.82)\n"
     ]
    }
   ],
   "source": [
    "# Z-distribution CI calculation\n",
    "population_sd = np.std(true_population, ddof=0)\n",
    "z_se = sample_sd / np.sqrt(sample_n)\n",
    "z_crit = stats.norm.ppf(0.975) # percent point function\\\n",
    "\n",
    "z_ci_lower = sample_mean - z_crit * z_se\n",
    "z_ci_upper = sample_mean + z_crit * z_se\n",
    "\n",
    "# Print result\n",
    "print(f\"Sample mean = {sample_mean:.2f}\")\n",
    "print(f\"95% z-distribution CI: ({z_ci_lower:.2f}, {z_ci_upper:.2f})\")"
   ]
  },
  {
   "cell_type": "markdown",
   "id": "f1d3551b",
   "metadata": {},
   "source": [
    "## Method 3: Bootstrap method\n",
    "\n",
    "Bootstrap resampling involves:\n",
    "1. Draw many samples (with replacement) from the observed data.\n",
    "2. Compute the sample mean for each resample. \n",
    "3. Take percentiles (e.g., 2.5th and 97.5th) of those means to form the bootstrap CI."
   ]
  },
  {
   "cell_type": "code",
   "execution_count": 79,
   "id": "5022f6e8",
   "metadata": {},
   "outputs": [
    {
     "name": "stdout",
     "output_type": "stream",
     "text": [
      "Bootstrap 95% CI for mean: (18.48, 21.72)\n"
     ]
    }
   ],
   "source": [
    "# Bootstrap \n",
    "# bootstrap_n = 1000\n",
    "bootstrap_means = []\n",
    "\n",
    "for _ in range(BOOTSTRAP_N):\n",
    "    bootstrap_sample = np.random.choice(sample_50, size=50, replace=True)\n",
    "    bootstrap_means.append(np.mean(bootstrap_sample))\n",
    "\n",
    "ci_lower  = np.percentile(bootstrap_means, 2.5)\n",
    "ci_upper = np.percentile(bootstrap_means, 97.5)\n",
    "\n",
    "print(f\"Bootstrap 95% CI for mean: ({ci_lower:.2f}, {ci_upper:.2f})\") "
   ]
  },
  {
   "cell_type": "markdown",
   "id": "ec740c0e",
   "metadata": {},
   "source": [
    "## Simulation Loops"
   ]
  },
  {
   "cell_type": "markdown",
   "id": "76eed83e",
   "metadata": {},
   "source": [
    "### Confidence Interval Calculation Functions\n",
    "\n",
    "Reusable functions to calculate 95% confidence intervals for the sample mean:\n",
    "- t-distribution based CI\n",
    "- z-distribution based CI\n",
    "- Bootstrap percentile CI"
   ]
  },
  {
   "cell_type": "code",
   "execution_count": null,
   "id": "9b194084",
   "metadata": {},
   "outputs": [],
   "source": [
    "# Compute CI using t-distribution critical values\n",
    "def ci_t(sample):\n",
    "    n = len(sample)\n",
    "    m = np.mean(sample)\n",
    "    se = np.std(sample, ddof=1) / np.sqrt(n)\n",
    "    t_crit = stats.t.ppf(0.975, df=n-1)\n",
    "    return m - t_crit * se, m + t_crit * se\n",
    "\n",
    "# Compute CI using z-distribution critical values\n",
    "def ci_z(sample):\n",
    "    n = len(sample)\n",
    "    m = np.mean(sample)\n",
    "    se = np.std(sample, ddof=1) / np.sqrt(n)\n",
    "    z_crit = stats.norm.ppf(0.975)\n",
    "    return m - z_crit * se, m + z_crit * se\n",
    "\n",
    "# Compute CI using bootstrap resampling and percentile method\n",
    "def ci_bootstrap(sample, n_bootstraps=BOOTSTRAP_N, ci=CI_LEVEL):\n",
    "    n = len(sample)\n",
    "    means = []\n",
    "\n",
    "    for _ in range(n_bootstraps):\n",
    "        resample = np.random.choice(sample, size=n, replace=True)\n",
    "        means.append(np.mean(resample))\n",
    "\n",
    "    alpha = 1 - ci\n",
    "    lower = np.percentile(means, 100 * (alpha / 2))\n",
    "    upper = np.percentile(means, 100 * (1 - alpha / 2))\n",
    "    return lower, upper"
   ]
  },
  {
   "cell_type": "markdown",
   "id": "c6b516dc",
   "metadata": {},
   "source": [
    "### Simulation Loop for Coverage & Width\n",
    "\n",
    "**Simulation Benchmark: Coverage & Width**\n",
    "\n",
    "For each combination of sample size and skewness:\n",
    "- Randomly sample data\n",
    "- Calculate CIs using t, z, and bootstrap methods\n",
    "- Record if CI contains the true mean and measure CI width\n",
    "\n",
    "Repeat for 1,000 iterations per scenario."
   ]
  },
  {
   "cell_type": "code",
   "execution_count": null,
   "id": "d69b7ba0",
   "metadata": {},
   "outputs": [
    {
     "name": "stderr",
     "output_type": "stream",
     "text": [
      "σ=0.4, n=10: 100%|██████████| 1000/1000 [00:10<00:00, 93.68it/s]\n",
      "σ=0.4, n=30: 100%|██████████| 1000/1000 [00:10<00:00, 92.96it/s]\n",
      "σ=0.4, n=100: 100%|██████████| 1000/1000 [00:11<00:00, 90.84it/s]\n",
      "σ=0.8, n=10: 100%|██████████| 1000/1000 [00:10<00:00, 93.71it/s]\n",
      "σ=0.8, n=30: 100%|██████████| 1000/1000 [00:10<00:00, 92.31it/s]\n",
      "σ=0.8, n=100: 100%|██████████| 1000/1000 [00:11<00:00, 88.99it/s]\n",
      "σ=1.2, n=10: 100%|██████████| 1000/1000 [00:10<00:00, 93.76it/s]\n",
      "σ=1.2, n=30: 100%|██████████| 1000/1000 [00:10<00:00, 91.47it/s]\n",
      "σ=1.2, n=100: 100%|██████████| 1000/1000 [00:11<00:00, 88.15it/s]\n"
     ]
    }
   ],
   "source": [
    "results = []\n",
    "for skew in SKEW_LEVELS:\n",
    "    mu = np.log(20)\n",
    "    for n in SAMPLE_SIZES:\n",
    "        # Generate true population with given skewness\n",
    "        population = np.random.lognormal(mean=mu, sigma=skew, size=100000)\n",
    "        true_mean = np.mean(population)\n",
    "\n",
    "        for _ in tqdm.tqdm(range(N_REPS), desc=f\"σ={skew}, n={n}\"):\n",
    "            # Sample n data points from population\n",
    "            sample = np.random.choice(population, size=n, replace=False)\n",
    "\n",
    "            # # Calculate CIs for each method\n",
    "            t_low, t_high = ci_t(sample)\n",
    "            z_low, z_high = ci_z(sample)\n",
    "            b_low, b_high = ci_bootstrap(sample)\n",
    "\n",
    "            results += [\n",
    "                {\"n\": n, \"skew\": skew, \"method\": \"t\", \"contains_mean\": t_low <= true_mean <= t_high, \"width\": t_high - t_low},\n",
    "                {\"n\": n, \"skew\": skew, \"method\": \"z\", \"contains_mean\": z_low <= true_mean <= z_high, \"width\": z_high - z_low},\n",
    "                {\"n\": n, \"skew\": skew, \"method\": \"bootstrap\", \"contains_mean\": b_low <= true_mean <= b_high, \"width\": b_high - b_low}\n",
    "            ]\n",
    "\n",
    "# # Convert results to DataFrame and aggregate\n",
    "df = pd.DataFrame(results)\n",
    "summary = df.groupby([\"n\", \"skew\", \"method\"]).agg(\n",
    "    coverage = (\"contains_mean\", \"mean\"),\n",
    "    avg_width = (\"width\", \"mean\")\n",
    ").reset_index()            "
   ]
  },
  {
   "cell_type": "code",
   "execution_count": 86,
   "id": "22cd8c10",
   "metadata": {},
   "outputs": [
    {
     "data": {
      "text/html": [
       "<div>\n",
       "<style scoped>\n",
       "    .dataframe tbody tr th:only-of-type {\n",
       "        vertical-align: middle;\n",
       "    }\n",
       "\n",
       "    .dataframe tbody tr th {\n",
       "        vertical-align: top;\n",
       "    }\n",
       "\n",
       "    .dataframe thead th {\n",
       "        text-align: right;\n",
       "    }\n",
       "</style>\n",
       "<table border=\"1\" class=\"dataframe\">\n",
       "  <thead>\n",
       "    <tr style=\"text-align: right;\">\n",
       "      <th></th>\n",
       "      <th>n</th>\n",
       "      <th>skew</th>\n",
       "      <th>method</th>\n",
       "      <th>coverage</th>\n",
       "      <th>avg_width</th>\n",
       "    </tr>\n",
       "  </thead>\n",
       "  <tbody>\n",
       "    <tr>\n",
       "      <th>0</th>\n",
       "      <td>10</td>\n",
       "      <td>0.4</td>\n",
       "      <td>bootstrap</td>\n",
       "      <td>0.886</td>\n",
       "      <td>10.021352</td>\n",
       "    </tr>\n",
       "    <tr>\n",
       "      <th>1</th>\n",
       "      <td>10</td>\n",
       "      <td>0.4</td>\n",
       "      <td>t</td>\n",
       "      <td>0.929</td>\n",
       "      <td>12.355860</td>\n",
       "    </tr>\n",
       "    <tr>\n",
       "      <th>2</th>\n",
       "      <td>10</td>\n",
       "      <td>0.4</td>\n",
       "      <td>z</td>\n",
       "      <td>0.904</td>\n",
       "      <td>10.705287</td>\n",
       "    </tr>\n",
       "    <tr>\n",
       "      <th>3</th>\n",
       "      <td>10</td>\n",
       "      <td>0.8</td>\n",
       "      <td>bootstrap</td>\n",
       "      <td>0.827</td>\n",
       "      <td>26.215983</td>\n",
       "    </tr>\n",
       "    <tr>\n",
       "      <th>4</th>\n",
       "      <td>10</td>\n",
       "      <td>0.8</td>\n",
       "      <td>t</td>\n",
       "      <td>0.875</td>\n",
       "      <td>32.897778</td>\n",
       "    </tr>\n",
       "  </tbody>\n",
       "</table>\n",
       "</div>"
      ],
      "text/plain": [
       "    n  skew     method  coverage  avg_width\n",
       "0  10   0.4  bootstrap     0.886  10.021352\n",
       "1  10   0.4          t     0.929  12.355860\n",
       "2  10   0.4          z     0.904  10.705287\n",
       "3  10   0.8  bootstrap     0.827  26.215983\n",
       "4  10   0.8          t     0.875  32.897778"
      ]
     },
     "execution_count": 86,
     "metadata": {},
     "output_type": "execute_result"
    }
   ],
   "source": [
    "summary.head()"
   ]
  },
  {
   "cell_type": "markdown",
   "id": "e8fa8ad1",
   "metadata": {},
   "source": [
    "## Results Visualization\n",
    "\n",
    "Aggregate simulation results to summarize:\n",
    "- Coverage probability (proportion of CIs containing true mean)\n",
    "- Average CI width\n",
    "\n",
    "Visualized as bar plots to compare methods across sample sizes and skewness levels."
   ]
  },
  {
   "cell_type": "markdown",
   "id": "5e8b4684",
   "metadata": {},
   "source": [
    "### Coverage probability"
   ]
  },
  {
   "cell_type": "code",
   "execution_count": null,
   "id": "ee36691a",
   "metadata": {},
   "outputs": [
    {
     "data": {
      "image/png": "[encoded data removed]",
      "text/plain": [
       "<Figure size 1617.25x500 with 3 Axes>"
      ]
     },
     "metadata": {},
     "output_type": "display_data"
    }
   ],
   "source": [
    "# Plot coverage probabilities with target 95% reference line\n",
    "barplot_coverage = sns.catplot(\n",
    "    data=summary,\n",
    "    x='n', \n",
    "    y='coverage', \n",
    "    hue='method',\n",
    "    col='skew',\n",
    "    kind='bar',\n",
    "    palette='muted',\n",
    "    errorbar=None)\n",
    "\n",
    "# Adjust y-axis range, e.g., from 0 to 1.1\n",
    "barplot_coverage.set(ylim=(0.7, 1.0))\n",
    "\n",
    "# Add horizontal reference line at y=0.95\n",
    "for ax in barplot_coverage.axes.flat:\n",
    "    ax.axhline(0.95, ls='--', color='red', linewidth=1)\n",
    "\n",
    "barplot_coverage.set_axis_labels(\"Sample Size\", \"Coverage Probability\")\n",
    "\n",
    "plt.show()\n",
    "\n",
    "barplot_coverage.savefig(\"barplot_coverage.png\", dpi=300, bbox_inches='tight')"
   ]
  },
  {
   "cell_type": "markdown",
   "id": "7bc56381",
   "metadata": {},
   "source": [
    "### Interval width"
   ]
  },
  {
   "cell_type": "code",
   "execution_count": null,
   "id": "8deac650",
   "metadata": {},
   "outputs": [
    {
     "data": {
      "image/png": "[encoded data removed]",
      "text/plain": [
       "<Figure size 1617.25x500 with 3 Axes>"
      ]
     },
     "metadata": {},
     "output_type": "display_data"
    }
   ],
   "source": [
    "# Plot average CI width\n",
    "barplot_precision = sns.catplot(\n",
    "    data=summary,\n",
    "    x='n', \n",
    "    y='avg_width', \n",
    "    hue='method',\n",
    "    col='skew',\n",
    "    kind='bar',\n",
    "    palette='muted',\n",
    "    errorbar=None)\n",
    "\n",
    "barplot_precision.set_axis_labels(\"Sample Size\", \"Average Length\")\n",
    "\n",
    "# Show plot\n",
    "plt.show()\n",
    "\n",
    "barplot_precision.savefig(\"barplot_precision.png\", dpi=300, bbox_inches='tight')"
   ]
  },
  {
   "cell_type": "markdown",
   "id": "f8c20dfd",
   "metadata": {},
   "source": [
    "## Discussion & Takeaways\n",
    "\n",
    "- **Bootstrap** offers more precise (narrower) intervals but at the cost of coverage reliability, especially in small, skewed samples.\n",
    "- **t-distribution** sacrifices precision (wider intervals) to maintain more accurate coverage.\n",
    "- **z-distribution** is suboptimal when sample sizes are small and data is skewed, as it assumes normality which is not met."
   ]
  },
  {
   "cell_type": "markdown",
   "id": "7abc527c",
   "metadata": {},
   "source": [
    "## ✅ Notebook Summary\n",
    "\n",
    "This notebook benchmarks confidence interval estimation methods on skewed data through simulation.  \n",
    "It demonstrates practical trade-offs between accuracy (coverage) and precision (interval width).\n",
    "\n",
    "For reproducibility:\n",
    "- Random seeds are fixed.\n",
    "- All parameters are configurable.\n",
    "- Dependencies and versions are documented."
   ]
  }
 ],
 "metadata": {
  "kernelspec": {
   "display_name": "base",
   "language": "python",
   "name": "python3"
  },
  "language_info": {
   "codemirror_mode": {
    "name": "ipython",
    "version": 3
   },
   "file_extension": ".py",
   "mimetype": "text/x-python",
   "name": "python",
   "nbconvert_exporter": "python",
   "pygments_lexer": "ipython3",
   "version": "3.12.2"
  }
 },
 "nbformat": 4,
 "nbformat_minor": 5
}
