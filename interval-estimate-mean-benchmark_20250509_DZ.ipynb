{
 "cells": [
  {
   "cell_type": "markdown",
   "id": "2070003a",
   "metadata": {},
   "source": [
    "# Benchmark statistical methods to estimate confidence intervals for the mean on simulated data\n",
    "**Use case study: Hospital length of stay for the rare disease autoimmune encephalitis**"
   ]
  },
  {
   "cell_type": "markdown",
   "id": "87843f33",
   "metadata": {},
   "source": [
    "Steps:\n",
    "1. Simulate data mimicking the skewed, overdispersed distribution of hospital length of stay for patients with autoimmune encephalitis. \n",
    "2. Code snippets to implement three or four different statistical methods to estimate confidence intervals for the mean\n",
    "   - Method 1: t-distribution method\n",
    "   - Method 2: z-distribution method\n",
    "   - Method 3: Bootstrap method\n",
    "   - Method 4: Bayesian method\n",
    "3. Compare the performance of the methods using simulation. Performance metrics could include:\n",
    "   - Coverage probability\n",
    "   - Length of confidence intervals\n",
    "4. Visualize summary statistics of performance matrix"
   ]
  },
  {
   "cell_type": "markdown",
   "id": "678f53a4",
   "metadata": {},
   "source": [
    "The notebook focuses on comparing frequentist methods and does not include Bayesian credible intervals, as they follow a different philosophy and require a distinct interpretation."
   ]
  },
  {
   "cell_type": "code",
   "execution_count": 2,
   "id": "5efc058c",
   "metadata": {},
   "outputs": [],
   "source": [
    "import pandas as pd\n",
    "import numpy as np\n",
    "from scipy import stats\n",
    "import matplotlib.pyplot as plt\n",
    "import seaborn as sns\n",
    "import tqdm"
   ]
  },
  {
   "cell_type": "markdown",
   "id": "34eaee45",
   "metadata": {},
   "source": [
    "## Simulating data for true population parameters\n",
    "\n",
    "To make the simulation more realistic, we will use a log-normal distribution to simulate the hospital length of stay. The log-normal distribution is often used to model skewed data, such as hospital length of stay.\n",
    "\n",
    "The parameters for the log-normal distribution will be set to mimic the characteristics of hospital length of stay for patients with autoimmune encephalitis. Set true population parameters as follows:\n",
    "- True mean length of stay: 55 days \n",
    "- True standard deviation: 20 days\n",
    "- Sample size: 100,000 patients with anti-NMDA encephalitis\n"
   ]
  },
  {
   "cell_type": "code",
   "execution_count": 3,
   "id": "c0c53a4a",
   "metadata": {},
   "outputs": [],
   "source": [
    "population_n = 10000\n",
    "mean_true = 55 \n",
    "sd_true = 20\n",
    "\n",
    "# Mean and standard deviation in log space\n",
    "mu = np.log(55)\n",
    "sigma_squared = np.log(1 + (sd_true**2) / (mean_true**2))\n",
    "sigma = np.sqrt(sigma_squared)"
   ]
  },
  {
   "cell_type": "code",
   "execution_count": 4,
   "id": "7c133008",
   "metadata": {},
   "outputs": [],
   "source": [
    "\n",
    "true_population = np.random.lognormal(mean=mu, sigma=sigma, size=population_n) "
   ]
  },
  {
   "cell_type": "markdown",
   "id": "d2a229b0",
   "metadata": {},
   "source": [
    "Overview the simulated data in histogram"
   ]
  },
  {
   "cell_type": "code",
   "execution_count": 5,
   "id": "3a3db0ac",
   "metadata": {},
   "outputs": [
    {
     "data": {
      "image/png": "[encoded data removed]",
      "text/plain": [
       "<Figure size 640x480 with 1 Axes>"
      ]
     },
     "metadata": {},
     "output_type": "display_data"
    }
   ],
   "source": [
    "# Overview the simulated population in a histogram\n",
    "plt.hist(true_population, bins=100, density=True)\n",
    "plt.title(\"Log-normal Distribution of Hospital LoS\")\n",
    "plt.xlabel(\"Length of Stay (days)\")\n",
    "plt.ylabel(\"Density\")\n",
    "# plt.xlim(0, 100)\n",
    "plt.show()"
   ]
  },
  {
   "cell_type": "markdown",
   "id": "c06f53dc",
   "metadata": {},
   "source": [
    "### Sampling from a log-normal distribution\n",
    "\n",
    "Sample randomly from a log-normal distribution with the size of 50 patients. "
   ]
  },
  {
   "cell_type": "code",
   "execution_count": 6,
   "id": "2784f918",
   "metadata": {},
   "outputs": [],
   "source": [
    "np.random.seed(42)\n",
    "sample_50 = np.random.choice(true_population, size=50, replace=False)"
   ]
  },
  {
   "cell_type": "code",
   "execution_count": 7,
   "id": "e96ec24f",
   "metadata": {},
   "outputs": [
    {
     "name": "stdout",
     "output_type": "stream",
     "text": [
      "Sample mean: 61.23, SD: 24.36\n"
     ]
    }
   ],
   "source": [
    "print(f\"Sample mean: {np.mean(sample_50):.2f}, SD: {np.std(sample_50):.2f}\")"
   ]
  },
  {
   "cell_type": "markdown",
   "id": "80bfee1a",
   "metadata": {},
   "source": [
    "## Code snippets to implement different statistical methods"
   ]
  },
  {
   "cell_type": "markdown",
   "id": "131e0ead",
   "metadata": {},
   "source": [
    "### Method 1: t-distribution method"
   ]
  },
  {
   "cell_type": "markdown",
   "id": "228d70de",
   "metadata": {},
   "source": [
    "**Formula for t-distribution method:**\n",
    "$$\n",
    "CI = \\bar{x} \\pm t_{\\alpha/2, n-1} \\cdot \\frac{s}{\\sqrt{n}}\n",
    "$$\n",
    "Where:\n",
    "- $\\bar{x}$ is the sample mean\n",
    "- $t_{\\alpha/2, n-1}$ is the t-value for a two-tailed test with $\\alpha$ level of significance and $n-1$ degrees of freedom\n",
    "- $s$ is the sample standard deviation\n",
    "- $n$ is the sample size"
   ]
  },
  {
   "cell_type": "code",
   "execution_count": 8,
   "id": "2a04229f",
   "metadata": {},
   "outputs": [
    {
     "name": "stdout",
     "output_type": "stream",
     "text": [
      "Sample mean = 61.23\n",
      "95% t-distribution CI: (54.24, 68.23)\n"
     ]
    }
   ],
   "source": [
    "# t-distribution CI calculation\n",
    "\n",
    "sample_n = len(sample_50)\n",
    "sample_mean = np.mean(sample_50)\n",
    "sample_sd = np.std(sample_50, ddof=1)\n",
    "se = sample_sd / np.sqrt(sample_n)\n",
    "t_crit = stats.t.ppf(0.975, df=sample_n-1) # percent point function \n",
    "\n",
    "ci_lower = sample_mean - t_crit * se\n",
    "ci_upper = sample_mean + t_crit * se\n",
    "\n",
    "# Print result\n",
    "print(f\"Sample mean = {sample_mean:.2f}\")\n",
    "print(f\"95% t-distribution CI: ({ci_lower:.2f}, {ci_upper:.2f})\")\n"
   ]
  },
  {
   "cell_type": "markdown",
   "id": "98f6ded6",
   "metadata": {},
   "source": [
    "## Method 2: z-distribution method\n",
    "**Formula for z-distribution method:**\n",
    "$$\n",
    "CI = \\bar{x} \\pm z_{\\alpha/2} \\cdot \\frac{\\sigma}{\\sqrt{n}}\n",
    "$$\n",
    "Where:\n",
    "- $\\bar{x}$ is the sample mean\n",
    "- $z_{\\alpha/2}$ is the z-value for a two-tailed test with $\\alpha$ level of significance\n",
    "- $\\sigma$ is the population standard deviation\n",
    "- $n$ is the sample size"
   ]
  },
  {
   "cell_type": "code",
   "execution_count": 9,
   "id": "ccb10221",
   "metadata": {},
   "outputs": [],
   "source": [
    "from scipy.stats import norm"
   ]
  },
  {
   "cell_type": "code",
   "execution_count": 10,
   "id": "a8fafb1b",
   "metadata": {},
   "outputs": [
    {
     "name": "stdout",
     "output_type": "stream",
     "text": [
      "Sample mean = 61.23\n",
      "95% z-distribution CI: (54.41, 68.06)\n"
     ]
    }
   ],
   "source": [
    "# Z-distribution CI calculation\n",
    "population_sd = np.std(true_population, ddof=0)\n",
    "z_se = sample_sd / np.sqrt(sample_n)\n",
    "z_crit = stats.norm.ppf(0.975) # percent point function\\\n",
    "\n",
    "z_ci_lower = sample_mean - z_crit * z_se\n",
    "z_ci_upper = sample_mean + z_crit * z_se\n",
    "\n",
    "# Print result\n",
    "print(f\"Sample mean = {sample_mean:.2f}\")\n",
    "print(f\"95% z-distribution CI: ({z_ci_lower:.2f}, {z_ci_upper:.2f})\")"
   ]
  },
  {
   "cell_type": "markdown",
   "id": "f1d3551b",
   "metadata": {},
   "source": [
    "## Method 3: Bootstrap method\n",
    "\n",
    "Bootstrap resampling involves:\n",
    "1. Draw many samples (with replacement) from the observed data.\n",
    "2. Compute the sample mean for each resample. \n",
    "3. Take percentiles (e.g., 2.5th and 97.5th) of those means to form the bootstrap CI."
   ]
  },
  {
   "cell_type": "code",
   "execution_count": 11,
   "id": "5022f6e8",
   "metadata": {},
   "outputs": [
    {
     "name": "stdout",
     "output_type": "stream",
     "text": [
      "Bootstrap 95% CI for mean: (54.89, 67.83)\n"
     ]
    }
   ],
   "source": [
    "# Bootstrap \n",
    "bootstrap_n = 1000\n",
    "bootstrap_means = []\n",
    "\n",
    "for _ in range(bootstrap_n):\n",
    "    bootstrap_sample = np.random.choice(sample_50, size=50, replace=True)\n",
    "    bootstrap_means.append(np.mean(bootstrap_sample))\n",
    "\n",
    "ci_lower  = np.percentile(bootstrap_means, 2.5)\n",
    "ci_upper = np.percentile(bootstrap_means, 97.5)\n",
    "\n",
    "print(f\"Bootstrap 95% CI for mean: ({ci_lower:.2f}, {ci_upper:.2f})\") "
   ]
  },
  {
   "cell_type": "markdown",
   "id": "76eed83e",
   "metadata": {},
   "source": [
    "# Compare performance of three methods\n",
    "\n",
    "Next, I will compare three CI estimators in the two key performance matrix, coverage and interval width. \n",
    "\n",
    "In theory, the sample size and skewness among a few factors affect accuracy and precision of confidence intervals resulting from a given approach.\n",
    "\n",
    "The notebook, thus aims to compare three methods performance based on empirical evidence. The sample sizes and skewness include:"
   ]
  },
  {
   "cell_type": "code",
   "execution_count": 12,
   "id": "9b194084",
   "metadata": {},
   "outputs": [],
   "source": [
    "# Step 1: Define CI methods\n",
    "def ci_t(sample):\n",
    "    n = len(sample)\n",
    "    m = np.mean(sample)\n",
    "    se = np.std(sample, ddof=1) / np.sqrt(n)\n",
    "    t_crit = stats.t.ppf(0.975, df=n-1)\n",
    "    return m - t_crit * se, m + t_crit * se\n",
    "\n",
    "def ci_z(sample):\n",
    "    n = len(sample)\n",
    "    m = np.mean(sample)\n",
    "    se = np.std(sample, ddof=1) / np.sqrt(n)\n",
    "    z_crit = stats.norm.ppf(0.975)\n",
    "    return m - z_crit * se, m + z_crit * se\n",
    "\n",
    "def ci_bootstrap(sample, n_bootstraps=1000, ci=0.95):\n",
    "    n = len(sample)\n",
    "    means = []\n",
    "\n",
    "    for _ in range(n_bootstraps):\n",
    "        resample = np.random.choice(sample, size=n, replace=True)\n",
    "        means.append(np.mean(resample))\n",
    "\n",
    "    alpha = 1 - ci\n",
    "    lower = np.percentile(means, 100 * (alpha / 2))\n",
    "    upper = np.percentile(means, 100 * (1 - alpha / 2))\n",
    "    return lower, upper\n",
    "    \n",
    "\n"
   ]
  },
  {
   "cell_type": "code",
   "execution_count": 13,
   "id": "8914fe74",
   "metadata": {},
   "outputs": [],
   "source": [
    "sample_sizes = [10, 30, 100]\n",
    "skew_levels = [0.4, 0.8, 1.2]\n",
    "n_reps = 1000\n",
    "\n",
    "results = []"
   ]
  },
  {
   "cell_type": "code",
   "execution_count": 14,
   "id": "d69b7ba0",
   "metadata": {},
   "outputs": [
    {
     "name": "stderr",
     "output_type": "stream",
     "text": [
      "σ=0.4, n=10: 100%|██████████| 1000/1000 [00:10<00:00, 91.76it/s]\n",
      "σ=0.4, n=30: 100%|██████████| 1000/1000 [00:10<00:00, 92.34it/s]\n",
      "σ=0.4, n=100: 100%|██████████| 1000/1000 [00:11<00:00, 90.02it/s]\n",
      "σ=0.8, n=10: 100%|██████████| 1000/1000 [00:10<00:00, 93.24it/s]\n",
      "σ=0.8, n=30: 100%|██████████| 1000/1000 [00:10<00:00, 92.35it/s]\n",
      "σ=0.8, n=100: 100%|██████████| 1000/1000 [00:11<00:00, 88.70it/s]\n",
      "σ=1.2, n=10: 100%|██████████| 1000/1000 [00:10<00:00, 93.01it/s]\n",
      "σ=1.2, n=30: 100%|██████████| 1000/1000 [00:10<00:00, 93.72it/s]\n",
      "σ=1.2, n=100: 100%|██████████| 1000/1000 [00:11<00:00, 89.73it/s]\n"
     ]
    }
   ],
   "source": [
    "for skew in skew_levels:\n",
    "    mu = np.log(20)\n",
    "    for n in sample_sizes:\n",
    "        population = np.random.lognormal(mean=mu, sigma=skew, size=100000)\n",
    "        true_mean = np.mean(population)\n",
    "\n",
    "        for _ in tqdm.tqdm(range(n_reps), desc=f\"σ={skew}, n={n}\"):\n",
    "            sample = np.random.choice(population, size=n, replace=False)\n",
    "\n",
    "            # t-CI\n",
    "            t_low, t_high = ci_t(sample)\n",
    "            # z-CI\n",
    "            z_low, z_high = ci_z(sample)\n",
    "            # bootstrap-CI\n",
    "            b_low, b_high = ci_bootstrap(sample)\n",
    "\n",
    "            results += [\n",
    "                {\"n\": n, \"skew\": skew, \"method\": \"t\", \"contains_mean\": t_low <= true_mean <= t_high, \"width\": t_high - t_low},\n",
    "                {\"n\": n, \"skew\": skew, \"method\": \"z\", \"contains_mean\": z_low <= true_mean <= z_high, \"width\": z_high - z_low},\n",
    "                {\"n\": n, \"skew\": skew, \"method\": \"bootstrap\", \"contains_mean\": b_low <= true_mean <= b_high, \"width\": b_high - b_low}\n",
    "            ]\n",
    "\n",
    "# Summary\n",
    "df = pd.DataFrame(results)\n",
    "summary = df.groupby([\"n\", \"skew\", \"method\"]).agg(\n",
    "    coverage = (\"contains_mean\", \"mean\"),\n",
    "    avg_width = (\"width\", \"mean\")\n",
    ").reset_index()            \n",
    "\n",
    "            "
   ]
  },
  {
   "cell_type": "code",
   "execution_count": 15,
   "id": "22cd8c10",
   "metadata": {},
   "outputs": [
    {
     "data": {
      "text/html": [
       "<div>\n",
       "<style scoped>\n",
       "    .dataframe tbody tr th:only-of-type {\n",
       "        vertical-align: middle;\n",
       "    }\n",
       "\n",
       "    .dataframe tbody tr th {\n",
       "        vertical-align: top;\n",
       "    }\n",
       "\n",
       "    .dataframe thead th {\n",
       "        text-align: right;\n",
       "    }\n",
       "</style>\n",
       "<table border=\"1\" class=\"dataframe\">\n",
       "  <thead>\n",
       "    <tr style=\"text-align: right;\">\n",
       "      <th></th>\n",
       "      <th>n</th>\n",
       "      <th>skew</th>\n",
       "      <th>method</th>\n",
       "      <th>coverage</th>\n",
       "      <th>avg_width</th>\n",
       "    </tr>\n",
       "  </thead>\n",
       "  <tbody>\n",
       "    <tr>\n",
       "      <th>0</th>\n",
       "      <td>10</td>\n",
       "      <td>0.4</td>\n",
       "      <td>bootstrap</td>\n",
       "      <td>0.885</td>\n",
       "      <td>9.918591</td>\n",
       "    </tr>\n",
       "    <tr>\n",
       "      <th>1</th>\n",
       "      <td>10</td>\n",
       "      <td>0.4</td>\n",
       "      <td>t</td>\n",
       "      <td>0.925</td>\n",
       "      <td>12.238010</td>\n",
       "    </tr>\n",
       "    <tr>\n",
       "      <th>2</th>\n",
       "      <td>10</td>\n",
       "      <td>0.4</td>\n",
       "      <td>z</td>\n",
       "      <td>0.900</td>\n",
       "      <td>10.603180</td>\n",
       "    </tr>\n",
       "    <tr>\n",
       "      <th>3</th>\n",
       "      <td>10</td>\n",
       "      <td>0.8</td>\n",
       "      <td>bootstrap</td>\n",
       "      <td>0.844</td>\n",
       "      <td>25.977427</td>\n",
       "    </tr>\n",
       "    <tr>\n",
       "      <th>4</th>\n",
       "      <td>10</td>\n",
       "      <td>0.8</td>\n",
       "      <td>t</td>\n",
       "      <td>0.885</td>\n",
       "      <td>32.481201</td>\n",
       "    </tr>\n",
       "  </tbody>\n",
       "</table>\n",
       "</div>"
      ],
      "text/plain": [
       "    n  skew     method  coverage  avg_width\n",
       "0  10   0.4  bootstrap     0.885   9.918591\n",
       "1  10   0.4          t     0.925  12.238010\n",
       "2  10   0.4          z     0.900  10.603180\n",
       "3  10   0.8  bootstrap     0.844  25.977427\n",
       "4  10   0.8          t     0.885  32.481201"
      ]
     },
     "execution_count": 15,
     "metadata": {},
     "output_type": "execute_result"
    }
   ],
   "source": [
    "summary.head()"
   ]
  },
  {
   "cell_type": "markdown",
   "id": "e8fa8ad1",
   "metadata": {},
   "source": [
    "## Visualization of summary statistics of performance matrix"
   ]
  },
  {
   "cell_type": "markdown",
   "id": "5e8b4684",
   "metadata": {},
   "source": [
    "### Coverage probability"
   ]
  },
  {
   "cell_type": "code",
   "execution_count": 24,
   "id": "ee36691a",
   "metadata": {},
   "outputs": [
    {
     "data": {
      "image/png": "[encoded data removed]",
      "text/plain": [
       "<Figure size 1617.25x500 with 3 Axes>"
      ]
     },
     "metadata": {},
     "output_type": "display_data"
    }
   ],
   "source": [
    "barplot_coverage = sns.catplot(\n",
    "    data=summary,\n",
    "    x='n', \n",
    "    y='coverage', \n",
    "    hue='method',\n",
    "    col='skew',\n",
    "    kind='bar',\n",
    "    palette='muted',\n",
    "    errorbar=None)\n",
    "\n",
    "# Adjust y-axis range, e.g., from 0 to 1.1\n",
    "barplot_coverage.set(ylim=(0.7, 1.0))\n",
    "\n",
    "# Add horizontal reference line at y=0.95\n",
    "for ax in barplot_coverage.axes.flat:\n",
    "    ax.axhline(0.95, ls='--', color='red', linewidth=1)\n",
    "\n",
    "barplot_coverage.set_axis_labels(\"Sample Size\", \"Coverage Probability\")\n",
    "\n",
    "plt.show()\n",
    "\n",
    "barplot_coverage.savefig(\"barplot_coverage.png\", dpi=300, bbox_inches='tight')"
   ]
  },
  {
   "cell_type": "markdown",
   "id": "7bc56381",
   "metadata": {},
   "source": [
    "### Interval width"
   ]
  },
  {
   "cell_type": "code",
   "execution_count": 23,
   "id": "8deac650",
   "metadata": {},
   "outputs": [
    {
     "data": {
      "image/png": "[encoded data removed]",
      "text/plain": [
       "<Figure size 1617.25x500 with 3 Axes>"
      ]
     },
     "metadata": {},
     "output_type": "display_data"
    }
   ],
   "source": [
    "barplot_precision = sns.catplot(\n",
    "    data=summary,\n",
    "    x='n', \n",
    "    y='avg_width', \n",
    "    hue='method',\n",
    "    col='skew',\n",
    "    kind='bar',\n",
    "    palette='muted',\n",
    "    errorbar=None)\n",
    "\n",
    "barplot_precision.set_axis_labels(\"Sample Size\", \"Average Length\")\n",
    "\n",
    "# Show plot\n",
    "plt.show()\n",
    "\n",
    "barplot_precision.savefig(\"barplot_precision.png\", dpi=300, bbox_inches='tight')"
   ]
  }
 ],
 "metadata": {
  "kernelspec": {
   "display_name": "base",
   "language": "python",
   "name": "python3"
  },
  "language_info": {
   "codemirror_mode": {
    "name": "ipython",
    "version": 3
   },
   "file_extension": ".py",
   "mimetype": "text/x-python",
   "name": "python",
   "nbconvert_exporter": "python",
   "pygments_lexer": "ipython3",
   "version": "3.12.2"
  }
 },
 "nbformat": 4,
 "nbformat_minor": 5
}
