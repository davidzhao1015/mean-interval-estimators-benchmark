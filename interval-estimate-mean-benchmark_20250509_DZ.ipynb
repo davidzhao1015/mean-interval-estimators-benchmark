{
 "cells": [
  {
   "cell_type": "markdown",
   "id": "2070003a",
   "metadata": {},
   "source": [
    "# Benchmark statistical methods to estimate confidence intervals for the mean on simulated data\n",
    "**Use case study: Hospital length of stay for the rare disease autoimmune encephalitis**"
   ]
  },
  {
   "cell_type": "markdown",
   "id": "87843f33",
   "metadata": {},
   "source": [
    "Steps:\n",
    "1. Simulate data mimicking the skewed, overdispersed distribution of hospital length of stay for patients with autoimmune encephalitis\n",
    "2. Code snippets to implement three or four different statistical methods to estimate confidence intervals for the mean\n",
    "3. Compare the performance of the methods using simulation\n",
    "4. Discuss the results and implications for clinical practice\n",
    "5. Provide a summary of the findings and recommendations for future research"
   ]
  },
  {
   "cell_type": "code",
   "execution_count": 1,
   "id": "5efc058c",
   "metadata": {},
   "outputs": [],
   "source": [
    "import pandas as pd"
   ]
  }
 ],
 "metadata": {
  "kernelspec": {
   "display_name": "base",
   "language": "python",
   "name": "python3"
  },
  "language_info": {
   "codemirror_mode": {
    "name": "ipython",
    "version": 3
   },
   "file_extension": ".py",
   "mimetype": "text/x-python",
   "name": "python",
   "nbconvert_exporter": "python",
   "pygments_lexer": "ipython3",
   "version": "3.12.2"
  }
 },
 "nbformat": 4,
 "nbformat_minor": 5
}
